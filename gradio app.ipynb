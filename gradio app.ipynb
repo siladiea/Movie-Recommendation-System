{
 "cells": [
  {
   "cell_type": "code",
   "execution_count": 17,
   "metadata": {},
   "outputs": [
    {
     "name": "stdout",
     "output_type": "stream",
     "text": [
      "0          inception\n",
      "1       interstellar\n",
      "2    the dark knight\n",
      "3             avatar\n",
      "4       the avengers\n",
      "Name: title, dtype: object\n",
      "(array([     3,  44928,  69880, 108032, 497047, 573158]),)\n"
     ]
    }
   ],
   "source": [
    "import gradio as gr\n",
    "import joblib\n",
    "import numpy as np\n",
    "\n",
    "def greet(name):\n",
    "    return \"Hello \" + name + \"!\"\n",
    "\n",
    "knn_model = joblib.load('neighbors.pkl')\n",
    "final_dataset = joblib.load('final_dataset')\n",
    "titles = joblib.load('titles')\n",
    "\n",
    "\n",
    "\n",
    "def prediction(index):\n",
    "    return knn_model.kneighbors(final_dataset[index].reshape(1,-1), n_neighbors=4, return_distance = False)\n",
    "\n",
    "print(titles.head())\n",
    "print(np.where(titles == \"avatar\"))\n",
    "# with gr.Blocks() as demo:\n",
    "#     name = gr.Textbox(label = \"Enter a movie name: \")\n",
    "\n",
    "\n",
    "#     output = gr.Textbox(label=\"Output Box\")\n",
    "#     greet_btn = gr.Button(\"Greet\")\n",
    "#     greet_btn.click(fn=greet, inputs=name, outputs=output, api_name=\"greet\")\n",
    "\n",
    "# demo.launch()"
   ]
  },
  {
   "cell_type": "code",
   "execution_count": null,
   "metadata": {},
   "outputs": [],
   "source": []
  }
 ],
 "metadata": {
  "kernelspec": {
   "display_name": "Python 3.9.13 64-bit",
   "language": "python",
   "name": "python3"
  },
  "language_info": {
   "codemirror_mode": {
    "name": "ipython",
    "version": 3
   },
   "file_extension": ".py",
   "mimetype": "text/x-python",
   "name": "python",
   "nbconvert_exporter": "python",
   "pygments_lexer": "ipython3",
   "version": "3.9.13"
  },
  "orig_nbformat": 4,
  "vscode": {
   "interpreter": {
    "hash": "aee8b7b246df8f9039afb4144a1f6fd8d2ca17a180786b69acc140d282b71a49"
   }
  }
 },
 "nbformat": 4,
 "nbformat_minor": 2
}
