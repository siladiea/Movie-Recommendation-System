{
  "cells": [
    {
      "cell_type": "markdown",
      "metadata": {
        "id": "VK2DARuuJBR7"
      },
      "source": [
        "This is a movie recommendation system using Content Based Recommendation"
      ]
    },
    {
      "cell_type": "code",
      "execution_count": 1,
      "metadata": {
        "id": "Rc2RDnjBQztq"
      },
      "outputs": [],
      "source": [
        "import pandas as pd\n",
        "import numpy as np"
      ]
    },
    {
      "cell_type": "markdown",
      "metadata": {
        "id": "65baeRt0lPvg"
      },
      "source": [
        "Add an indicies column"
      ]
    },
    {
      "cell_type": "code",
      "execution_count": 2,
      "metadata": {
        "colab": {
          "base_uri": "https://localhost:8080/",
          "height": 311
        },
        "id": "U3mUxSS8TIJ0",
        "outputId": "0e8088dc-a57a-4fa9-f004-f2af0c62cae5"
      },
      "outputs": [],
      "source": [
        "dataset = pd.read_csv(\"Movies.csv\", usecols=[\"title\", \"runtime\", \"adult\", \"genres\",\"production_companies\",\"spoken_languages\",\n",
        "         \"keywords\"])"
      ]
    },
    {
      "cell_type": "code",
      "execution_count": 3,
      "metadata": {},
      "outputs": [],
      "source": [
        "dataset['title'] = dataset['title'].apply(lambda x: x.strip().lower() if isinstance(x, str) else x)"
      ]
    },
    {
      "cell_type": "code",
      "execution_count": 4,
      "metadata": {},
      "outputs": [],
      "source": [
        "dataset = dataset.drop_duplicates(subset='title', keep='first')"
      ]
    },
    {
      "cell_type": "code",
      "execution_count": 5,
      "metadata": {},
      "outputs": [],
      "source": [
        "dataset = dataset.reset_index(drop=True)"
      ]
    },
    {
      "cell_type": "code",
      "execution_count": 6,
      "metadata": {
        "id": "swn0MgzJSqx0"
      },
      "outputs": [],
      "source": [
        "from sklearn.preprocessing import LabelEncoder"
      ]
    },
    {
      "cell_type": "code",
      "execution_count": 7,
      "metadata": {
        "id": "j2VrX72xUVna"
      },
      "outputs": [],
      "source": [
        "le = LabelEncoder()"
      ]
    },
    {
      "cell_type": "code",
      "execution_count": 8,
      "metadata": {
        "id": "Td-dspuQlbnl"
      },
      "outputs": [],
      "source": [
        "dataset['adult'] = le.fit_transform(dataset[\"adult\"])"
      ]
    },
    {
      "cell_type": "code",
      "execution_count": 9,
      "metadata": {
        "id": "bEu_Agx5nteX"
      },
      "outputs": [],
      "source": [
        "from sklearn.feature_extraction.text import CountVectorizer"
      ]
    },
    {
      "cell_type": "code",
      "execution_count": 10,
      "metadata": {
        "id": "mpAPTNTqpkbB"
      },
      "outputs": [],
      "source": [
        "def commma_tokenizer(text):\n",
        "  return text.split(\", \")"
      ]
    },
    {
      "cell_type": "markdown",
      "metadata": {
        "id": "qUkJDPwFp10L"
      },
      "source": [
        "comma_tokenizer is used so that phrases are split up, rather than individual words"
      ]
    },
    {
      "cell_type": "code",
      "execution_count": 11,
      "metadata": {
        "id": "kp5l-ADvsToU"
      },
      "outputs": [],
      "source": [
        "genres_vectorizer = CountVectorizer(tokenizer=commma_tokenizer)"
      ]
    },
    {
      "cell_type": "code",
      "execution_count": 12,
      "metadata": {},
      "outputs": [],
      "source": [
        "dataset['genres'] = dataset['genres'].replace(np.nan, \"UKNOWN\")"
      ]
    },
    {
      "cell_type": "code",
      "execution_count": 13,
      "metadata": {
        "id": "suqzBYTiuJzU"
      },
      "outputs": [],
      "source": [
        "genres = [x for x in dataset[\"genres\"]]"
      ]
    },
    {
      "cell_type": "code",
      "execution_count": 14,
      "metadata": {
        "colab": {
          "base_uri": "https://localhost:8080/"
        },
        "id": "6Kf2K9BmuNsh",
        "outputId": "71ba29c4-26a3-46f2-cc5d-b556d8c0681a"
      },
      "outputs": [],
      "source": [
        "gv = genres_vectorizer.fit_transform(genres)"
      ]
    },
    {
      "cell_type": "code",
      "execution_count": 15,
      "metadata": {
        "id": "LnmgS-bHuT0A"
      },
      "outputs": [],
      "source": [
        "dataset['genres'] = list(gv.toarray())"
      ]
    },
    {
      "cell_type": "markdown",
      "metadata": {
        "id": "rM8tgqu6ufsM"
      },
      "source": [
        "Creates every genre into a token"
      ]
    },
    {
      "cell_type": "code",
      "execution_count": 16,
      "metadata": {
        "id": "vDkvVYIonuzD"
      },
      "outputs": [],
      "source": [
        "production_companies_vectorizer = CountVectorizer(tokenizer=commma_tokenizer, min_df = 1000)"
      ]
    },
    {
      "cell_type": "code",
      "execution_count": 17,
      "metadata": {
        "id": "atYqaodAtkdp"
      },
      "outputs": [],
      "source": [
        "dataset['production_companies'] = dataset['production_companies'].replace(np.nan, \"UKNOWN\")"
      ]
    },
    {
      "cell_type": "code",
      "execution_count": 18,
      "metadata": {
        "id": "ZhkVaMbkpN5k"
      },
      "outputs": [],
      "source": [
        "production_companies = [x for x in dataset[\"production_companies\"]]"
      ]
    },
    {
      "cell_type": "code",
      "execution_count": 19,
      "metadata": {
        "id": "7Ibwl3t3pFSI"
      },
      "outputs": [],
      "source": [
        "pcv = production_companies_vectorizer.fit_transform(production_companies)"
      ]
    },
    {
      "cell_type": "code",
      "execution_count": 20,
      "metadata": {
        "id": "H5lIiJ_lqGoX"
      },
      "outputs": [],
      "source": [
        "dataset['production_companies'] = list(pcv.toarray())"
      ]
    },
    {
      "cell_type": "markdown",
      "metadata": {
        "id": "t3aIBF0Sumsj"
      },
      "source": [
        "Creates every production company into a token"
      ]
    },
    {
      "cell_type": "code",
      "execution_count": 21,
      "metadata": {},
      "outputs": [],
      "source": [
        "languages_spoken_vectorizer = CountVectorizer(tokenizer=commma_tokenizer, min_df=1000)"
      ]
    },
    {
      "cell_type": "code",
      "execution_count": 22,
      "metadata": {},
      "outputs": [],
      "source": [
        "dataset['spoken_languages'] = dataset['spoken_languages'].replace(np.nan, \"UKNOWN\")"
      ]
    },
    {
      "cell_type": "code",
      "execution_count": 23,
      "metadata": {},
      "outputs": [],
      "source": [
        "languages_spoken = [x for x in dataset[\"spoken_languages\"]]"
      ]
    },
    {
      "cell_type": "code",
      "execution_count": 24,
      "metadata": {},
      "outputs": [],
      "source": [
        "lsv = languages_spoken_vectorizer.fit_transform(languages_spoken)"
      ]
    },
    {
      "cell_type": "code",
      "execution_count": 25,
      "metadata": {},
      "outputs": [],
      "source": [
        "dataset['spoken_languages'] = list(lsv.toarray())"
      ]
    },
    {
      "cell_type": "markdown",
      "metadata": {},
      "source": [
        "Creates every language that appears at least 1000 times into a token"
      ]
    },
    {
      "cell_type": "code",
      "execution_count": 26,
      "metadata": {
        "id": "_jDJqAQxwoss"
      },
      "outputs": [],
      "source": [
        "keywords_vectorizer = CountVectorizer(tokenizer=commma_tokenizer, min_df = 300) \n"
      ]
    },
    {
      "cell_type": "code",
      "execution_count": 27,
      "metadata": {
        "id": "noPYew4Gw2d4"
      },
      "outputs": [],
      "source": [
        "dataset['keywords'] = dataset['keywords'].replace(np.nan, \"UKNOWN\")"
      ]
    },
    {
      "cell_type": "code",
      "execution_count": 28,
      "metadata": {
        "id": "XlsNz3HWw9E1"
      },
      "outputs": [],
      "source": [
        "keywords = [x for x in dataset[\"keywords\"]]"
      ]
    },
    {
      "cell_type": "code",
      "execution_count": 29,
      "metadata": {
        "id": "T4zeEfPdxDld"
      },
      "outputs": [],
      "source": [
        "kv = keywords_vectorizer.fit_transform(keywords)"
      ]
    },
    {
      "cell_type": "code",
      "execution_count": 30,
      "metadata": {
        "id": "VlxFWTS-xHj5"
      },
      "outputs": [],
      "source": [
        "dataset['keywords'] = list(kv.toarray())"
      ]
    },
    {
      "cell_type": "code",
      "execution_count": 31,
      "metadata": {},
      "outputs": [],
      "source": [
        "titles = dataset['title']"
      ]
    },
    {
      "cell_type": "code",
      "execution_count": 32,
      "metadata": {},
      "outputs": [],
      "source": [
        "dataset = dataset.iloc[:,1:].values"
      ]
    },
    {
      "cell_type": "markdown",
      "metadata": {},
      "source": [
        "Creates every keyword into a token"
      ]
    },
    {
      "cell_type": "code",
      "execution_count": 33,
      "metadata": {},
      "outputs": [],
      "source": [
        "data = []"
      ]
    },
    {
      "cell_type": "code",
      "execution_count": 34,
      "metadata": {},
      "outputs": [],
      "source": [
        "for row in dataset:\n",
        "    flat_list = None\n",
        "    for i in range(len(row)):\n",
        "        flat_list = row.tolist()\n",
        "\n",
        "        if(type(row[i]) == np.ndarray):\n",
        "\n",
        "            for item in row[i]:\n",
        "                flat_list.append(item)\n",
        "\n",
        "    del flat_list[2:6]\n",
        "    data.append(flat_list)\n"
      ]
    },
    {
      "cell_type": "code",
      "execution_count": 35,
      "metadata": {},
      "outputs": [],
      "source": [
        "final_dataset = np.array(data)"
      ]
    },
    {
      "cell_type": "code",
      "execution_count": 36,
      "metadata": {
        "id": "BYckLAjobjg-"
      },
      "outputs": [],
      "source": [
        "from sklearn.neighbors import NearestNeighbors"
      ]
    },
    {
      "cell_type": "code",
      "execution_count": 37,
      "metadata": {
        "id": "uCtxJzBzgovX"
      },
      "outputs": [],
      "source": [
        "neighbors = NearestNeighbors(metric = \"cosine\")"
      ]
    },
    {
      "cell_type": "code",
      "execution_count": 38,
      "metadata": {
        "id": "YBlLSAK6kQRN"
      },
      "outputs": [
        {
          "data": {
            "text/html": [
              "<style>#sk-container-id-1 {color: black;background-color: white;}#sk-container-id-1 pre{padding: 0;}#sk-container-id-1 div.sk-toggleable {background-color: white;}#sk-container-id-1 label.sk-toggleable__label {cursor: pointer;display: block;width: 100%;margin-bottom: 0;padding: 0.3em;box-sizing: border-box;text-align: center;}#sk-container-id-1 label.sk-toggleable__label-arrow:before {content: \"▸\";float: left;margin-right: 0.25em;color: #696969;}#sk-container-id-1 label.sk-toggleable__label-arrow:hover:before {color: black;}#sk-container-id-1 div.sk-estimator:hover label.sk-toggleable__label-arrow:before {color: black;}#sk-container-id-1 div.sk-toggleable__content {max-height: 0;max-width: 0;overflow: hidden;text-align: left;background-color: #f0f8ff;}#sk-container-id-1 div.sk-toggleable__content pre {margin: 0.2em;color: black;border-radius: 0.25em;background-color: #f0f8ff;}#sk-container-id-1 input.sk-toggleable__control:checked~div.sk-toggleable__content {max-height: 200px;max-width: 100%;overflow: auto;}#sk-container-id-1 input.sk-toggleable__control:checked~label.sk-toggleable__label-arrow:before {content: \"▾\";}#sk-container-id-1 div.sk-estimator input.sk-toggleable__control:checked~label.sk-toggleable__label {background-color: #d4ebff;}#sk-container-id-1 div.sk-label input.sk-toggleable__control:checked~label.sk-toggleable__label {background-color: #d4ebff;}#sk-container-id-1 input.sk-hidden--visually {border: 0;clip: rect(1px 1px 1px 1px);clip: rect(1px, 1px, 1px, 1px);height: 1px;margin: -1px;overflow: hidden;padding: 0;position: absolute;width: 1px;}#sk-container-id-1 div.sk-estimator {font-family: monospace;background-color: #f0f8ff;border: 1px dotted black;border-radius: 0.25em;box-sizing: border-box;margin-bottom: 0.5em;}#sk-container-id-1 div.sk-estimator:hover {background-color: #d4ebff;}#sk-container-id-1 div.sk-parallel-item::after {content: \"\";width: 100%;border-bottom: 1px solid gray;flex-grow: 1;}#sk-container-id-1 div.sk-label:hover label.sk-toggleable__label {background-color: #d4ebff;}#sk-container-id-1 div.sk-serial::before {content: \"\";position: absolute;border-left: 1px solid gray;box-sizing: border-box;top: 0;bottom: 0;left: 50%;z-index: 0;}#sk-container-id-1 div.sk-serial {display: flex;flex-direction: column;align-items: center;background-color: white;padding-right: 0.2em;padding-left: 0.2em;position: relative;}#sk-container-id-1 div.sk-item {position: relative;z-index: 1;}#sk-container-id-1 div.sk-parallel {display: flex;align-items: stretch;justify-content: center;background-color: white;position: relative;}#sk-container-id-1 div.sk-item::before, #sk-container-id-1 div.sk-parallel-item::before {content: \"\";position: absolute;border-left: 1px solid gray;box-sizing: border-box;top: 0;bottom: 0;left: 50%;z-index: -1;}#sk-container-id-1 div.sk-parallel-item {display: flex;flex-direction: column;z-index: 1;position: relative;background-color: white;}#sk-container-id-1 div.sk-parallel-item:first-child::after {align-self: flex-end;width: 50%;}#sk-container-id-1 div.sk-parallel-item:last-child::after {align-self: flex-start;width: 50%;}#sk-container-id-1 div.sk-parallel-item:only-child::after {width: 0;}#sk-container-id-1 div.sk-dashed-wrapped {border: 1px dashed gray;margin: 0 0.4em 0.5em 0.4em;box-sizing: border-box;padding-bottom: 0.4em;background-color: white;}#sk-container-id-1 div.sk-label label {font-family: monospace;font-weight: bold;display: inline-block;line-height: 1.2em;}#sk-container-id-1 div.sk-label-container {text-align: center;}#sk-container-id-1 div.sk-container {/* jupyter's `normalize.less` sets `[hidden] { display: none; }` but bootstrap.min.css set `[hidden] { display: none !important; }` so we also need the `!important` here to be able to override the default hidden behavior on the sphinx rendered scikit-learn.org. See: https://github.com/scikit-learn/scikit-learn/issues/21755 */display: inline-block !important;position: relative;}#sk-container-id-1 div.sk-text-repr-fallback {display: none;}</style><div id=\"sk-container-id-1\" class=\"sk-top-container\"><div class=\"sk-text-repr-fallback\"><pre>NearestNeighbors(metric=&#x27;cosine&#x27;)</pre><b>In a Jupyter environment, please rerun this cell to show the HTML representation or trust the notebook. <br />On GitHub, the HTML representation is unable to render, please try loading this page with nbviewer.org.</b></div><div class=\"sk-container\" hidden><div class=\"sk-item\"><div class=\"sk-estimator sk-toggleable\"><input class=\"sk-toggleable__control sk-hidden--visually\" id=\"sk-estimator-id-1\" type=\"checkbox\" checked><label for=\"sk-estimator-id-1\" class=\"sk-toggleable__label sk-toggleable__label-arrow\">NearestNeighbors</label><div class=\"sk-toggleable__content\"><pre>NearestNeighbors(metric=&#x27;cosine&#x27;)</pre></div></div></div></div></div>"
            ],
            "text/plain": [
              "NearestNeighbors(metric='cosine')"
            ]
          },
          "execution_count": 38,
          "metadata": {},
          "output_type": "execute_result"
        }
      ],
      "source": [
        "neighbors.fit(final_dataset)"
      ]
    },
    {
      "cell_type": "markdown",
      "metadata": {
        "id": "oCIcRICTknQi"
      },
      "source": [
        "This will fit the knn model according to the values"
      ]
    },
    {
      "cell_type": "code",
      "execution_count": 39,
      "metadata": {
        "id": "xcp4U3-8kmC_"
      },
      "outputs": [],
      "source": [
        "indices = neighbors.kneighbors(final_dataset[2].reshape(1,-1), n_neighbors=4, return_distance = False)"
      ]
    },
    {
      "cell_type": "markdown",
      "metadata": {
        "id": "ef3qXDi_lIQZ"
      },
      "source": [
        "Ignoring the distances output, we will take the indices output and match it to index in the dataset and output"
      ]
    },
    {
      "cell_type": "code",
      "execution_count": 40,
      "metadata": {},
      "outputs": [
        {
          "name": "stdout",
          "output_type": "stream",
          "text": [
            "Movies that are similar to the dark knight that we think you make like: man of steel, batman & robin, and atom man vs. superman\n"
          ]
        }
      ],
      "source": [
        "print(f\"Movies that are similar to {titles[indices[0][0]]} that we think you make like: {titles[indices[0][1]]}, {titles[indices[0][2]]}, and {titles[indices[0][3]]}\")"
      ]
    },
    {
      "cell_type": "markdown",
      "metadata": {},
      "source": [
        "Using joblib to export the knn model, the final dataset, and the titles dataset, to use in the Gradio Application"
      ]
    },
    {
      "cell_type": "code",
      "execution_count": 41,
      "metadata": {},
      "outputs": [],
      "source": [
        "import joblib"
      ]
    },
    {
      "cell_type": "code",
      "execution_count": 42,
      "metadata": {},
      "outputs": [
        {
          "data": {
            "text/plain": [
              "['neighbors.pkl']"
            ]
          },
          "execution_count": 42,
          "metadata": {},
          "output_type": "execute_result"
        }
      ],
      "source": [
        "joblib.dump(neighbors, \"neighbors.pkl\")"
      ]
    },
    {
      "cell_type": "code",
      "execution_count": 43,
      "metadata": {},
      "outputs": [
        {
          "data": {
            "text/plain": [
              "['final_dataset']"
            ]
          },
          "execution_count": 43,
          "metadata": {},
          "output_type": "execute_result"
        }
      ],
      "source": [
        "joblib.dump(final_dataset, \"final_dataset\")"
      ]
    },
    {
      "cell_type": "code",
      "execution_count": 44,
      "metadata": {},
      "outputs": [
        {
          "data": {
            "text/plain": [
              "['titles']"
            ]
          },
          "execution_count": 44,
          "metadata": {},
          "output_type": "execute_result"
        }
      ],
      "source": [
        "joblib.dump(titles, \"titles\")"
      ]
    }
  ],
  "metadata": {
    "colab": {
      "provenance": []
    },
    "kernelspec": {
      "display_name": "Python 3.9.13 64-bit",
      "language": "python",
      "name": "python3"
    },
    "language_info": {
      "codemirror_mode": {
        "name": "ipython",
        "version": 3
      },
      "file_extension": ".py",
      "mimetype": "text/x-python",
      "name": "python",
      "nbconvert_exporter": "python",
      "pygments_lexer": "ipython3",
      "version": "3.9.13"
    },
    "vscode": {
      "interpreter": {
        "hash": "aee8b7b246df8f9039afb4144a1f6fd8d2ca17a180786b69acc140d282b71a49"
      }
    }
  },
  "nbformat": 4,
  "nbformat_minor": 0
}
